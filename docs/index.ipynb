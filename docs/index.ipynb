{
 "cells": [
  {
   "metadata": {},
   "cell_type": "markdown",
   "source": [
    "# pyracetrack\n",
    "\n",
    "Generates 2d/3d racetracks procedurally.\n",
    "\n",
    "Used for generating tracks for reinforcement learning tasks."
   ],
   "id": "f6422edacb52852f"
  },
  {
   "cell_type": "code",
   "id": "initial_id",
   "metadata": {
    "collapsed": true
   },
   "source": [
    "from pyracetrack import Track\n",
    "import matplotlib.pyplot as plt\n",
    "import numpy as np\n",
    "\n",
    "\n",
    "def generate_grid(nrows=3, ncols=5, **kwargs):\n",
    "    fig, axes = plt.subplots(nrows, ncols, figsize=(2 * ncols, 2 * nrows))\n",
    "    for i, ax in enumerate(axes.flatten()):\n",
    "        Track.generate(seed=i, **kwargs).plot(ax=ax, show_seed=False)\n",
    "    plt.subplots_adjust(wspace=0., hspace=0.)\n",
    "    # remove white space when saving\n",
    "    fig.savefig(\"figures/default.png\",\n",
    "    return fig\n",
    "\n",
    "\n",
    "generate_grid().savefig(\"figures/default.png\", bbox_inches='tight')\n",
    "generate_grid(n=50, corner_cells=20).savefig(\"figures/v2.png\", bbox_inches='tight')\n",
    "generate_grid(n=5, corner_cells=50).savefig(\"figures/v3.png\", bbox_inches='tight')"
   ],
   "outputs": [],
   "execution_count": null
  },
  {
   "metadata": {},
   "cell_type": "markdown",
   "source": [
    "![default](figures/default.png)\n",
    "![v2](figures/v2.png)\n",
    "![v3](figures/v3.png)"
   ],
   "id": "ed6f1a611e2b639b"
  },
  {
   "metadata": {},
   "cell_type": "markdown",
   "source": "## Cli",
   "id": "2c2b93d0122ddede"
  },
  {
   "metadata": {
    "ExecuteTime": {
     "end_time": "2025-02-04T01:05:25.861637Z",
     "start_time": "2025-02-04T01:05:24.561737Z"
    }
   },
   "cell_type": "code",
   "source": "! generate_track --help",
   "id": "ac75a115291f5623",
   "outputs": [
    {
     "name": "stdout",
     "output_type": "stream",
     "text": [
      "Usage: generate_track [OPTIONS]\r\n",
      "\r\n",
      "Options:\r\n",
      "  --3d                     Create 3D racetrack or not\r\n",
      "  --seed INTEGER           Specify int32 seed\r\n",
      "  --maxx INTEGER\r\n",
      "  --maxy INTEGER\r\n",
      "  --corner_cells INTEGER\r\n",
      "  --noise_factor FLOAT\r\n",
      "  --noise_octaves INTEGER\r\n",
      "  --num_points INTEGER\r\n",
      "  --help                   Show this message and exit.\r\n"
     ]
    }
   ],
   "execution_count": 13
  }
 ],
 "metadata": {
  "kernelspec": {
   "display_name": "Python 3",
   "language": "python",
   "name": "python3"
  },
  "language_info": {
   "codemirror_mode": {
    "name": "ipython",
    "version": 2
   },
   "file_extension": ".py",
   "mimetype": "text/x-python",
   "name": "python",
   "nbconvert_exporter": "python",
   "pygments_lexer": "ipython2",
   "version": "2.7.6"
  }
 },
 "nbformat": 4,
 "nbformat_minor": 5
}
